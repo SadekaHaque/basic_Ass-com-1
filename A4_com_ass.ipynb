{
 "cells": [
  {
   "cell_type": "code",
   "execution_count": 1,
   "metadata": {
    "collapsed": false
   },
   "outputs": [
    {
     "name": "stdout",
     "output_type": "stream",
     "text": [
      "8\n",
      "10\n",
      "3\n",
      "5\n",
      "2\n",
      "4\n",
      "55\n",
      "2\n",
      "9\n",
      "1\n",
      "1 9 2 55 4 2 5 3 10 8 "
     ]
    }
   ],
   "source": [
    "#2\n",
    "a =[]\n",
    "for i in range(10):\n",
    "    a.append(int(input()))\n",
    "for i in reversed(a):\n",
    "    print(i, end=' ')"
   ]
  },
  {
   "cell_type": "code",
   "execution_count": 2,
   "metadata": {
    "collapsed": false
   },
   "outputs": [
    {
     "name": "stdout",
     "output_type": "stream",
     "text": [
      "2\n",
      "7\n",
      "1\n",
      "44\n",
      "9\n",
      "34\n",
      "28\n",
      "4\n",
      "92\n",
      "4\n",
      "4 92 4 28 34 44 2 "
     ]
    }
   ],
   "source": [
    "#3\n",
    "a =[]\n",
    "for i in range(10):\n",
    "    a.append(int(input()))\n",
    "for i in reversed(a):\n",
    "    if i % 2 == 0:\n",
    "        print(i, end=' ')"
   ]
  },
  {
   "cell_type": "code",
   "execution_count": 8,
   "metadata": {
    "collapsed": false
   },
   "outputs": [
    {
     "name": "stdout",
     "output_type": "stream",
     "text": [
      "6\n",
      "2\n",
      "4\n",
      "13\n",
      "15\n",
      "3\n",
      "4\n",
      "6\n",
      "3\n",
      "18\n",
      "X: 6\n",
      "Yes\n"
     ]
    }
   ],
   "source": [
    "#4\n",
    "\n",
    "a = []\n",
    "for i in range(10):\n",
    "    a.append(int(input()))\n",
    "x = int(input(\"X: \"))\n",
    "\n",
    "if x in a:\n",
    "    print('Yes')\n",
    "else:\n",
    "    print('No')"
   ]
  },
  {
   "cell_type": "code",
   "execution_count": 7,
   "metadata": {
    "collapsed": false
   },
   "outputs": [
    {
     "name": "stdout",
     "output_type": "stream",
     "text": [
      "23\n",
      "4\n",
      "1\n",
      "2\n",
      "3\n",
      "4\n",
      "6\n",
      "45\n",
      "5\n",
      "8\n",
      "9\n",
      "10\n",
      "23\n",
      "14\n",
      "25\n",
      "[23, 4, 1, 2, 3, 4, 6, 45, 5]\n"
     ]
    }
   ],
   "source": [
    "# 5:\n",
    "a = []\n",
    "for i in range(15):\n",
    "    a.append(int(input()))\n",
    "print(a[:9])"
   ]
  },
  {
   "cell_type": "code",
   "execution_count": 3,
   "metadata": {
    "collapsed": false
   },
   "outputs": [
    {
     "name": "stdout",
     "output_type": "stream",
     "text": [
      "5\n",
      "8\n",
      "8\n",
      "8 is already in among the entered numbers\n",
      "26\n",
      "4\n",
      "5\n",
      "5 is already in among the entered numbers\n",
      "34\n",
      "9\n",
      "4\n",
      "4 is already in among the entered numbers\n",
      "5\n",
      "5 is already in among the entered numbers\n",
      "78\n",
      "09\n",
      "9 is already in among the entered numbers\n",
      "3\n",
      "34\n",
      "34 is already in among the entered numbers\n",
      "77\n",
      "56\n",
      "10 unique number: [5, 8, 26, 4, 34, 9, 78, 3, 77, 56]\n"
     ]
    }
   ],
   "source": [
    "#7\n",
    "a = []\n",
    "i = 0\n",
    "while(i<10):\n",
    "    b = int(input())\n",
    "    if b not in a:\n",
    "        a.append(b)\n",
    "        i+=1\n",
    "    else:\n",
    "        print(b,'is already in among the entered numbers')\n",
    "print('10 unique number:',a)"
   ]
  },
  {
   "cell_type": "code",
   "execution_count": null,
   "metadata": {
    "collapsed": true
   },
   "outputs": [],
   "source": []
  },
  {
   "cell_type": "code",
   "execution_count": null,
   "metadata": {
    "collapsed": true
   },
   "outputs": [],
   "source": []
  },
  {
   "cell_type": "code",
   "execution_count": null,
   "metadata": {
    "collapsed": true
   },
   "outputs": [],
   "source": []
  },
  {
   "cell_type": "code",
   "execution_count": null,
   "metadata": {
    "collapsed": true
   },
   "outputs": [],
   "source": []
  },
  {
   "cell_type": "code",
   "execution_count": null,
   "metadata": {
    "collapsed": true
   },
   "outputs": [],
   "source": []
  },
  {
   "cell_type": "code",
   "execution_count": null,
   "metadata": {
    "collapsed": true
   },
   "outputs": [],
   "source": []
  }
 ],
 "metadata": {
  "kernelspec": {
   "display_name": "Python 3",
   "language": "python",
   "name": "python3"
  },
  "language_info": {
   "codemirror_mode": {
    "name": "ipython",
    "version": 3
   },
   "file_extension": ".py",
   "mimetype": "text/x-python",
   "name": "python",
   "nbconvert_exporter": "python",
   "pygments_lexer": "ipython3",
   "version": "3.6.0"
  }
 },
 "nbformat": 4,
 "nbformat_minor": 2
}
