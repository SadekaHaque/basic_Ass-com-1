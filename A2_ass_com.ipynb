{
 "cells": [
  {
   "cell_type": "code",
   "execution_count": 1,
   "metadata": {
    "collapsed": true
   },
   "outputs": [],
   "source": [
    "#A2 ass"
   ]
  },
  {
   "cell_type": "code",
   "execution_count": 2,
   "metadata": {
    "collapsed": false
   },
   "outputs": [
    {
     "name": "stdout",
     "output_type": "stream",
     "text": [
      "Input element number:4\n",
      "* * * * "
     ]
    }
   ],
   "source": [
    "#1\n",
    "n = int(input(\"Input element number:\"))\n",
    "for i in range(n):\n",
    "    print(\"*\",end=\" \")"
   ]
  },
  {
   "cell_type": "code",
   "execution_count": 3,
   "metadata": {
    "collapsed": false
   },
   "outputs": [
    {
     "name": "stdout",
     "output_type": "stream",
     "text": [
      "Enter raw number  4\n",
      "Enter column number  6\n",
      "******\n",
      "******\n",
      "******\n",
      "******\n"
     ]
    }
   ],
   "source": [
    "#2\n",
    "n1 = int(input('Enter raw number  '))\n",
    "n2 = int(input('Enter column number  '))\n",
    "\n",
    "for i in range(n1):\n",
    "    for j in range(n2):\n",
    "        print('*',end='')\n",
    "    print('')"
   ]
  },
  {
   "cell_type": "code",
   "execution_count": 10,
   "metadata": {
    "collapsed": false
   },
   "outputs": [
    {
     "name": "stdout",
     "output_type": "stream",
     "text": [
      "Input element number:3\n",
      "*\n",
      "**\n",
      "***\n"
     ]
    }
   ],
   "source": [
    "#3\n",
    "n = int(input(\"Input element number:\"))\n",
    "for i in range(1,n+1):\n",
    "    for j in range(1,i+1):\n",
    "        print(\"*\",end=\"\")\n",
    "    print('')  "
   ]
  },
  {
   "cell_type": "code",
   "execution_count": 6,
   "metadata": {
    "collapsed": false
   },
   "outputs": [
    {
     "name": "stdout",
     "output_type": "stream",
     "text": [
      "Inter number  4\n",
      "    *\n",
      "   **\n",
      "  ***\n",
      " ****\n"
     ]
    }
   ],
   "source": [
    "#4\n",
    "n = int(input('Inter number  '))\n",
    "k = 0\n",
    "l = 1\n",
    "for i in range(n,0,-1):\n",
    "    k+=1\n",
    "    l+=1\n",
    "    print(' '*i,end='')\n",
    "    for j in range(k,l):\n",
    "        print('*'*j)"
   ]
  },
  {
   "cell_type": "code",
   "execution_count": 17,
   "metadata": {
    "collapsed": false
   },
   "outputs": [],
   "source": [
    "#5\n",
    "def pyramid(size):\n",
    "    for i in range(size):\n",
    "        row = '*'*(2*i+1)\n",
    "        print(row.center(2*size))"
   ]
  },
  {
   "cell_type": "code",
   "execution_count": 18,
   "metadata": {
    "collapsed": false
   },
   "outputs": [
    {
     "name": "stdout",
     "output_type": "stream",
     "text": [
      "  *   \n",
      " ***  \n",
      "***** \n"
     ]
    }
   ],
   "source": [
    "pyramid(3)"
   ]
  },
  {
   "cell_type": "code",
   "execution_count": 19,
   "metadata": {
    "collapsed": false
   },
   "outputs": [
    {
     "name": "stdout",
     "output_type": "stream",
     "text": [
      "   *    \n",
      "  ***   \n",
      " *****  \n",
      "******* \n"
     ]
    }
   ],
   "source": [
    "pyramid(4)"
   ]
  },
  {
   "cell_type": "code",
   "execution_count": 20,
   "metadata": {
    "collapsed": true
   },
   "outputs": [],
   "source": [
    "def pyramid(r):\n",
    "    for i in range(r):\n",
    "        row = '*'*(2*i+1)\n",
    "        print(row.center(2*r))\n",
    "    for i in range(r-1,-1,-1):\n",
    "        row = '*'*(2*i+1)\n",
    "        print(row.center(2*r))\n"
   ]
  },
  {
   "cell_type": "code",
   "execution_count": 21,
   "metadata": {
    "collapsed": false
   },
   "outputs": [
    {
     "name": "stdout",
     "output_type": "stream",
     "text": [
      "Enter no of rows:3\n",
      "  *   \n",
      " ***  \n",
      "***** \n",
      "***** \n",
      " ***  \n",
      "  *   \n"
     ]
    }
   ],
   "source": [
    "n=int(input(\"Enter no of rows:\"))\n",
    "pyramid(n)"
   ]
  },
  {
   "cell_type": "code",
   "execution_count": 25,
   "metadata": {
    "collapsed": false
   },
   "outputs": [
    {
     "name": "stdout",
     "output_type": "stream",
     "text": [
      "Inter number  3\n",
      "   *\n",
      "  ***\n",
      " *****\n",
      "  ***\n",
      "   *\n"
     ]
    }
   ],
   "source": [
    "#6\n",
    "n = int(input('Inter number  '))\n",
    "k = 0\n",
    "l = 1\n",
    "for i in range(n,0,-1):\n",
    "    k+=1\n",
    "    l+=1\n",
    "    print(' '*i,end='')\n",
    "    for j in range(k,l):\n",
    "        print('*'*j,end='')\n",
    "    for jj in range(k-1,l-1):\n",
    "        print('*'*jj)\n",
    "n = n -1\n",
    "k = n\n",
    "l = n + 1\n",
    "for i in range(2,n+2):\n",
    "    k-=1\n",
    "    l-=1\n",
    "    print(' '*i,end='')\n",
    "    for j in range(l,k,-1):\n",
    "        print('*'*j,end='')\n",
    "    for jj in range(l-1,k-1,-1):\n",
    "        print('*'*jj)\n"
   ]
  },
  {
   "cell_type": "code",
   "execution_count": 24,
   "metadata": {
    "collapsed": false
   },
   "outputs": [
    {
     "name": "stdout",
     "output_type": "stream",
     "text": [
      "Inter number  5\n",
      "     1\n",
      "    12\n",
      "   123\n",
      "  1234\n",
      " 12345\n"
     ]
    }
   ],
   "source": [
    "#15\n",
    "n = int(input('Inter number  '))\n",
    "k = 0\n",
    "l = 1\n",
    "for i in range(n,0,-1):\n",
    "    k+=1\n",
    "    l+=1\n",
    "    print(' '*i,end='')\n",
    "    for j in range(k,l):\n",
    "        for m in range(1,j+1):\n",
    "            print(m,end='')\n",
    "        print('')"
   ]
  },
  {
   "cell_type": "code",
   "execution_count": 26,
   "metadata": {
    "collapsed": false
   },
   "outputs": [
    {
     "name": "stdout",
     "output_type": "stream",
     "text": [
      "enter row3\n",
      "enter column3\n",
      "***\n",
      "* *\n",
      "***\n"
     ]
    }
   ],
   "source": [
    "#7\n",
    "m = int(input(\"enter row\"))\n",
    "n = int(input(\"enter column\"))\n",
    "for i in range(1,n-1):\n",
    "    if i is 1:\n",
    "        print('*'*m) \n",
    "    print('*',end='')\n",
    "    print(' '*(m-2),end='')\n",
    "    print('*')\n",
    "    if i is n-2:\n",
    "        print('*'*m)"
   ]
  },
  {
   "cell_type": "code",
   "execution_count": 28,
   "metadata": {
    "collapsed": false
   },
   "outputs": [
    {
     "name": "stdout",
     "output_type": "stream",
     "text": [
      "Inter number  5\n",
      "*\n",
      "**\n",
      "* *\n",
      "*  *\n",
      "*****\n"
     ]
    }
   ],
   "source": [
    "#8\n",
    "\n",
    "n = int(input('Inter number  '))\n",
    "if n >=2:\n",
    "    for i in range(1,3):\n",
    "        print('*'*i)\n",
    "    for i in range(1,n-2):\n",
    "        print('*',end='')\n",
    "        print(' '*i,end='')\n",
    "        print('*',end='')\n",
    "        print('')\n",
    "    if n >2:\n",
    "        print('*'*n)\n",
    "else:\n",
    "    print('*')"
   ]
  },
  {
   "cell_type": "code",
   "execution_count": 30,
   "metadata": {
    "collapsed": false
   },
   "outputs": [
    {
     "name": "stdout",
     "output_type": "stream",
     "text": [
      "Inter number  5\n",
      "     *\n",
      "    **\n",
      "   * *\n",
      "  *  *\n",
      " *****\n"
     ]
    }
   ],
   "source": [
    "#9\n",
    "\n",
    "n = int(input('Inter number  '))\n",
    "k = 0\n",
    "l = 1\n",
    "for i in range(n,0,-1):\n",
    "    k+=1\n",
    "    l+=1\n",
    "    print(' '*i,end='')\n",
    "    if k < 3:\n",
    "        for j in range(k,l):\n",
    "            print('*'*j)\n",
    "    else:\n",
    "        if i != 1:\n",
    "            print('*',end='')\n",
    "            print(' '*(k-2),end='')\n",
    "            print('*',end='')\n",
    "            print('')\n",
    "        else:\n",
    "            print('*'*n)"
   ]
  },
  {
   "cell_type": "code",
   "execution_count": 31,
   "metadata": {
    "collapsed": false
   },
   "outputs": [
    {
     "name": "stdout",
     "output_type": "stream",
     "text": [
      "123456"
     ]
    }
   ],
   "source": [
    "#12\n",
    "n = 6 \n",
    "for i in range(1,n+1):\n",
    "    print(i,end='')"
   ]
  },
  {
   "cell_type": "code",
   "execution_count": 32,
   "metadata": {
    "collapsed": false
   },
   "outputs": [
    {
     "name": "stdout",
     "output_type": "stream",
     "text": [
      "123456\n",
      "123456\n",
      "123456\n",
      "123456\n"
     ]
    }
   ],
   "source": [
    "#13\n",
    "\n",
    "m = 4\n",
    "n = 6 \n",
    "for i in range(1,m+1):\n",
    "    for j in range(1,n+1):\n",
    "        print(j,end='')\n",
    "    print('')"
   ]
  },
  {
   "cell_type": "code",
   "execution_count": 33,
   "metadata": {
    "collapsed": false
   },
   "outputs": [
    {
     "name": "stdout",
     "output_type": "stream",
     "text": [
      "1\n",
      "12\n",
      "123\n",
      "1234\n"
     ]
    }
   ],
   "source": [
    "#14\n",
    "m = 4\n",
    "k = 2\n",
    "for i in range(1,m+1):\n",
    "    for j in range(1,k):\n",
    "        print(j,end='')\n",
    "    print('')\n",
    "    k+=1;"
   ]
  },
  {
   "cell_type": "code",
   "execution_count": 34,
   "metadata": {
    "collapsed": false
   },
   "outputs": [
    {
     "name": "stdout",
     "output_type": "stream",
     "text": [
      "    1\n",
      "   123\n",
      "  12345\n",
      " 1234567\n"
     ]
    }
   ],
   "source": [
    "#16\n",
    "n = 4 #int(input('Inter number  '))\n",
    "k = 0\n",
    "l = 1\n",
    "for i in range(n,0,-1):\n",
    "    k+=1\n",
    "    l+=1\n",
    "    print(' '*i,end='')\n",
    "    for j in range(k,l):\n",
    "        for jj in range(1,j+k):\n",
    "            print(jj,end='')\n",
    "    print('')\n",
    "    "
   ]
  },
  {
   "cell_type": "code",
   "execution_count": null,
   "metadata": {
    "collapsed": true
   },
   "outputs": [],
   "source": []
  }
 ],
 "metadata": {
  "kernelspec": {
   "display_name": "Python 3",
   "language": "python",
   "name": "python3"
  },
  "language_info": {
   "codemirror_mode": {
    "name": "ipython",
    "version": 3
   },
   "file_extension": ".py",
   "mimetype": "text/x-python",
   "name": "python",
   "nbconvert_exporter": "python",
   "pygments_lexer": "ipython3",
   "version": "3.6.0"
  }
 },
 "nbformat": 4,
 "nbformat_minor": 2
}
