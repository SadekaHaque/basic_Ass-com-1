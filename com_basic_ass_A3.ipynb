{
 "cells": [
  {
   "cell_type": "code",
   "execution_count": null,
   "metadata": {
    "collapsed": true
   },
   "outputs": [],
   "source": [
    "def fun1 (x):\n",
    "    print ('welcome' + x)\n"
   ]
  },
  {
   "cell_type": "code",
   "execution_count": null,
   "metadata": {
    "collapsed": false
   },
   "outputs": [],
   "source": [
    "fun1 (' joan ')"
   ]
  },
  {
   "cell_type": "code",
   "execution_count": 1,
   "metadata": {
    "collapsed": false
   },
   "outputs": [
    {
     "name": "stdout",
     "output_type": "stream",
     "text": [
      "Enter your list:2 10 13 6 7\n",
      "2\n",
      "10\n",
      "13\n",
      "6\n",
      "7\n"
     ]
    }
   ],
   "source": [
    "#1\n",
    "lst = input ('Enter your list:' ).split()\n",
    "for a in lst:\n",
    "    print(a)\n"
   ]
  },
  {
   "cell_type": "code",
   "execution_count": 2,
   "metadata": {
    "collapsed": false
   },
   "outputs": [
    {
     "name": "stdout",
     "output_type": "stream",
     "text": [
      "7\n",
      "6\n",
      "13\n",
      "10\n",
      "2\n"
     ]
    }
   ],
   "source": [
    "#2\n",
    "for i in reversed(lst):\n",
    "    print (i)\n",
    "    \n",
    "    "
   ]
  },
  {
   "cell_type": "code",
   "execution_count": 4,
   "metadata": {
    "collapsed": false,
    "scrolled": true
   },
   "outputs": [
    {
     "name": "stdout",
     "output_type": "stream",
     "text": [
      "2\n",
      "6\n",
      "7\n"
     ]
    }
   ],
   "source": [
    "#3\n",
    "for j in lst:\n",
    "    if int(j) < 10:\n",
    "        print(j)"
   ]
  },
  {
   "cell_type": "code",
   "execution_count": 5,
   "metadata": {
    "collapsed": false
   },
   "outputs": [
    {
     "name": "stdout",
     "output_type": "stream",
     "text": [
      "3\n"
     ]
    }
   ],
   "source": [
    "#4\n",
    "k = 0\n",
    "for j in lst:\n",
    "    if int(j) < 10:\n",
    "        k+=1\n",
    "print(k)"
   ]
  },
  {
   "cell_type": "code",
   "execution_count": 6,
   "metadata": {
    "collapsed": false
   },
   "outputs": [
    {
     "name": "stdout",
     "output_type": "stream",
     "text": [
      "2\n",
      "10\n",
      "15\n",
      "13\n",
      "7\n",
      "6\n",
      "7\n",
      "7 Found & location is:\n"
     ]
    }
   ],
   "source": [
    "#5\n",
    "a = []\n",
    "for i in range(6):\n",
    "    a.append(int(input()))\n",
    "x = int(input())\n",
    "if x in a:\n",
    "    print(x,'Found & location is:')\n",
    "else:\n",
    "    print(x,'Not found')\n"
   ]
  },
  {
   "cell_type": "code",
   "execution_count": 7,
   "metadata": {
    "collapsed": false
   },
   "outputs": [
    {
     "name": "stdout",
     "output_type": "stream",
     "text": [
      "2\n",
      "10\n",
      "13\n",
      "15\n",
      "7\n",
      "6\n",
      "7\n",
      "7 is found & location is: 4\n"
     ]
    }
   ],
   "source": [
    "a = []\n",
    "for i in range(6):\n",
    "    a.append(int(input()))\n",
    "x = int(input())\n",
    "if x in a:\n",
    "    print(x, 'is found & location is:', a.index(x))\n",
    "else:\n",
    "    print(x, 'is not found')\n"
   ]
  },
  {
   "cell_type": "code",
   "execution_count": 9,
   "metadata": {
    "collapsed": false
   },
   "outputs": [
    {
     "name": "stdout",
     "output_type": "stream",
     "text": [
      "2\n",
      "10\n",
      "7\n",
      "13\n",
      "6\n",
      "15\n",
      "Max number is: 15\n"
     ]
    }
   ],
   "source": [
    "#7\n",
    "a = []\n",
    "for i in range(6):\n",
    "    a.append(int(input()))\n",
    "print('Max number is:',max(a))"
   ]
  },
  {
   "cell_type": "code",
   "execution_count": 1,
   "metadata": {
    "collapsed": false
   },
   "outputs": [
    {
     "name": "stdout",
     "output_type": "stream",
     "text": [
      "2\n",
      "10\n",
      "13\n",
      "7\n",
      "7\n",
      "15\n",
      "Biggest numberis: 15 location is 5\n"
     ]
    }
   ],
   "source": [
    "#8\n",
    "a = []\n",
    "for i in range(6):\n",
    "    a.append(int(input()))\n",
    "m = max(a)\n",
    "print('Biggest numberis:',m,'location is', a.index(m))\n"
   ]
  },
  {
   "cell_type": "code",
   "execution_count": 2,
   "metadata": {
    "collapsed": false
   },
   "outputs": [
    {
     "name": "stdout",
     "output_type": "stream",
     "text": [
      "2\n",
      "10\n",
      "13\n",
      "7\n",
      "-3\n",
      "biggest number 13 was found at location 2\n",
      "smallest number -3 was found at location 4\n"
     ]
    }
   ],
   "source": [
    "#9\n",
    "a = []\n",
    "for i in range(5):\n",
    "    a.append(int(input()))\n",
    "m = max(a)\n",
    "s = min(a)\n",
    "print('biggest number', m, 'was found at location',a.index(m))\n",
    "print('smallest number', s, 'was found at location',a.index(s))"
   ]
  },
  {
   "cell_type": "code",
   "execution_count": 3,
   "metadata": {
    "collapsed": false
   },
   "outputs": [
    {
     "name": "stdout",
     "output_type": "stream",
     "text": [
      "2\n",
      "10\n",
      "7\n",
      "13\n",
      "6\n",
      "before: \n",
      "2\n",
      "10\n",
      "7\n",
      "13\n",
      "6\n",
      "\n",
      "\n",
      "after: \n",
      "6\n",
      "13\n",
      "7\n",
      "10\n",
      "2\n"
     ]
    }
   ],
   "source": [
    "#10\n",
    "a = []\n",
    "for i in range(5):\n",
    "    a.append(int(input()))\n",
    "\n",
    "print('before: ')\n",
    "for i in (a):\n",
    "    print(i)\n",
    "print('\\n')\n",
    "print('after: ')\n",
    "for i in reversed(a):\n",
    "    print(i)\n",
    "    "
   ]
  },
  {
   "cell_type": "code",
   "execution_count": 6,
   "metadata": {
    "collapsed": false
   },
   "outputs": [
    {
     "name": "stdout",
     "output_type": "stream",
     "text": [
      "2\n",
      "5\n",
      "8\n",
      "1\n",
      "10\n",
      "[1, 2, 5, 8, 10]\n"
     ]
    }
   ],
   "source": [
    "#11\n",
    "a = []\n",
    "for i in range(5):\n",
    "    a.append(int(input()))\n",
    "print(sorted(a))"
   ]
  },
  {
   "cell_type": "code",
   "execution_count": 7,
   "metadata": {
    "collapsed": false
   },
   "outputs": [
    {
     "name": "stdout",
     "output_type": "stream",
     "text": [
      "2\n",
      "5\n",
      "1\n",
      "9\n",
      "14\n",
      "[14, 9, 5, 2, 1]\n"
     ]
    }
   ],
   "source": [
    "#12\n",
    "a = []\n",
    "for i in range(5):\n",
    "    a.append(int(input()))\n",
    "a.sort(reverse= True)\n",
    "print(a)"
   ]
  },
  {
   "cell_type": "code",
   "execution_count": 8,
   "metadata": {
    "collapsed": false
   },
   "outputs": [
    {
     "name": "stdout",
     "output_type": "stream",
     "text": [
      "[9, 8, 7, 6, 5, 4, 3, 2, 1, 0]\n"
     ]
    }
   ],
   "source": [
    "#13\n",
    "a = []\n",
    "for i in range(10):\n",
    "    a.append(i)\n",
    "a.sort(reverse=True)\n",
    "print(a)"
   ]
  },
  {
   "cell_type": "code",
   "execution_count": 10,
   "metadata": {
    "collapsed": false
   },
   "outputs": [
    {
     "name": "stdout",
     "output_type": "stream",
     "text": [
      "2\n",
      "You have entered:  [2]\n",
      "13\n",
      "You have entered:  [2, 13]\n",
      "5\n",
      "You have entered:  [2, 13, 5]\n",
      "9\n",
      "You have entered:  [2, 13, 5, 9]\n",
      "10\n",
      "You have entered:  [2, 13, 5, 9, 10]\n",
      "22\n",
      "You have entered:  [2, 13, 5, 9, 10, 22]\n",
      "65\n",
      "You have entered:  [2, 13, 5, 9, 10, 22, 65]\n",
      "25\n",
      "You have entered:  [2, 13, 5, 9, 10, 22, 65, 25]\n",
      "9\n",
      "You have entered:  [2, 13, 5, 9, 10, 22, 65, 25, 9]\n",
      "31\n",
      "You have entered:  [2, 13, 5, 9, 10, 22, 65, 25, 9, 31]\n"
     ]
    }
   ],
   "source": [
    "#14\n",
    "a = []\n",
    "for i in range(10):\n",
    "    a.append(int(input()))\n",
    "    print('You have entered: ',a)"
   ]
  },
  {
   "cell_type": "code",
   "execution_count": 11,
   "metadata": {
    "collapsed": false
   },
   "outputs": [
    {
     "name": "stdout",
     "output_type": "stream",
     "text": [
      "2\n",
      "2\n",
      "2 is already in among the entered numbers\n",
      "1\n",
      "6\n",
      "3\n",
      "3\n",
      "3 is already in among the entered numbers\n",
      "6\n",
      "6 is already in among the entered numbers\n",
      "7\n",
      "10\n",
      "7\n",
      "7 is already in among the entered numbers\n",
      "Five unique number: [2, 1, 6, 3, 7, 10]\n"
     ]
    }
   ],
   "source": [
    "#15\n",
    "a = []\n",
    "for i in range(10):\n",
    "    b = int(input())\n",
    "    if b not in a:\n",
    "        a.append(b)\n",
    "        \n",
    "    else:\n",
    "        print(b,'is already in among the entered numbers')\n",
    "print('Five unique number:',a)"
   ]
  },
  {
   "cell_type": "code",
   "execution_count": 12,
   "metadata": {
    "collapsed": true
   },
   "outputs": [],
   "source": [
    "#16\n"
   ]
  },
  {
   "cell_type": "code",
   "execution_count": null,
   "metadata": {
    "collapsed": false
   },
   "outputs": [],
   "source": [
    "#17\n",
    "a = []\n",
    "for i in range(5):\n",
    "    b = int(input())\n",
    "    if b not in a:\n",
    "        a.append(b)\n",
    "    elif a.count(b) < 4:\n",
    "        a.append(b)\n",
    "    else:\n",
    "        print(b,\"it must not allow it because\" ,b, \"is already there, 4 times.\")\n",
    "print(\"Number:\",a)\n",
    "            "
   ]
  },
  {
   "cell_type": "code",
   "execution_count": null,
   "metadata": {
    "collapsed": true
   },
   "outputs": [],
   "source": [
    "#18\n",
    "a = []\n",
    "c =[]\n",
    "for i in range(10):\n",
    "    a.append(int(input()))\n",
    "# a=[4,3,2,5,2,3,2,0,2,3]\n",
    "for i in a:\n",
    "    b = a.count(i)\n",
    "    if i not in c:\n",
    "        if b <5 and b >1:\n",
    "            c.append(i)\n",
    "print(c)"
   ]
  },
  {
   "cell_type": "code",
   "execution_count": null,
   "metadata": {
    "collapsed": true
   },
   "outputs": [],
   "source": []
  }
 ],
 "metadata": {
  "kernelspec": {
   "display_name": "Python 3",
   "language": "python",
   "name": "python3"
  },
  "language_info": {
   "codemirror_mode": {
    "name": "ipython",
    "version": 3
   },
   "file_extension": ".py",
   "mimetype": "text/x-python",
   "name": "python",
   "nbconvert_exporter": "python",
   "pygments_lexer": "ipython3",
   "version": "3.6.0"
  }
 },
 "nbformat": 4,
 "nbformat_minor": 2
}
